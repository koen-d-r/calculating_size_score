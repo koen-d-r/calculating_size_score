{
 "cells": [
  {
   "cell_type": "code",
   "execution_count": 1,
   "id": "ef300d87",
   "metadata": {},
   "outputs": [],
   "source": [
    "#import libraries\n",
    "from numpy import pi, exp, sqrt\n",
    "import timeit"
   ]
  },
  {
   "cell_type": "markdown",
   "id": "987f2403",
   "metadata": {},
   "source": [
    "#### Using normal distribution PDF for calculating size score\n",
    "___\n",
    "\n",
    "In ecommerce, the available sizes on a PDP have a significant impact on (potential) add-to-cart and conversion rates. In the example below, we managed to log every available (and unavailable) size for every product and for every PDP pageview. This is done by firing this data within the \"Items\" array in the Enhanced Ecommerce implementation in GA4. The sizes logged are European shoe sizes. Then, the underlying normal distribution PDF is used to calculate a size score per article. The formula below is being used:\n",
    "\\\n",
    "\\\n",
    "$f(x) = \\frac{1}{\\sigma\\sqrt{2\\pi}} \n",
    "  \\exp\\left( -\\frac{1}{2}\\left(\\frac{x-\\mu}{\\sigma}\\right)^{\\!2}\\,\\right)$\n",
    "\n",
    "\n",
    "\\\n",
    "**Example 1:**\\\n",
    "Article 21200812-12 for females is available in sizes 36, 38, 39, and 42. All other in-between sizes are not. Average size for females is 39 with a standard deviation of 1.5. The size score for this specific article is:\n",
    "\n",
    "36.0: 0.036\\\n",
    "37.0: 0.000\\\n",
    "38.0: 0.213\\\n",
    "39.0: 0.266\\\n",
    "40.0: 0.000\\\n",
    "41.0: 0.000\\\n",
    "42.0: 0.036\\\n",
    "Total size score: 0.5509148126334408\n",
    "\n",
    "\n",
    "**Example 2:**\\\n",
    "Article 21200812-27 for females is available in all sizes from 35 to (and including) 43. Average size for females is 39 with a standard deviation of 1.5. The size score for this specific article is:\n",
    "\n",
    "35.0: 0.0076\\\n",
    "36.0: 0.036\\\n",
    "37.0: 0.1093\\\n",
    "38.0: 0.213\\\n",
    "39.0: 0.266\\\n",
    "40.0: 0.213\\\n",
    "41.0: 0.1093\\\n",
    "42.0: 0.036\\\n",
    "43.0: 0.0076\\\n",
    "Total size score: 0.9977548972480639\n"
   ]
  },
  {
   "cell_type": "code",
   "execution_count": 2,
   "id": "5c224530",
   "metadata": {},
   "outputs": [],
   "source": [
    "# define mu (means) and sigmas (standard deviations) for both male and female shoes\n",
    "male_mu = 43 # mean of male sizes sold\n",
    "male_sigma = 1.7 # standard deviation of male sizes sold\n",
    "\n",
    "female_mu = 39 # mean of female sizes sold\n",
    "female_sigma = 1.5 # standard deviation of female sizes sold\n",
    "\n",
    "formula_input = [(male_mu, male_sigma), (female_mu, female_sigma)]"
   ]
  },
  {
   "cell_type": "code",
   "execution_count": 3,
   "id": "58368549",
   "metadata": {},
   "outputs": [],
   "source": [
    "data = [['21200812-12', '36_1|37_0|38_1|39_1|40_0|41_0|42_1'],\n",
    "       ['21200812-17', '36_1|37_1|38_0|39_0|40_1|41_0|42_1'],\n",
    "       ['21200812-19', '36_1|37_1|38_0|39_0|40_1|41_1|42_1'],\n",
    "       ['21200812-23', '36_1|37_1|38_0|39_0|40_1|41_1|42_1'],\n",
    "       ['21200812-24', '36_1|37_1|38_0|39_0|40_1|41_1|42_1'],\n",
    "       ['21200812-25', '36_1|37_1|38_1|39_1|40_1|41_1|42_1'],\n",
    "       ['21200812-26', '35_1|36_1|37_1|38_1|39_1|40_1|41_1|42_1'],\n",
    "       ['21200812-27', '35_1|36_1|37_1|38_1|39_1|40_1|41_1|42_1|43_1']]"
   ]
  },
  {
   "cell_type": "code",
   "execution_count": 4,
   "id": "6a827121",
   "metadata": {},
   "outputs": [],
   "source": [
    "ss_dict = {}\n",
    "\n",
    "def calculate_size_score(nelson_id, size_availability):\n",
    "    \"\"\" Grabs gender ID (first character of ID) and size availability and\n",
    "    returns a calculated size score based on a normal distribution. \"\"\"\n",
    "    \n",
    "    \n",
    "    gender_id = int(nelson_id[0])\n",
    "    idx = gender_id - 1 # to grab input from list formula_input\n",
    "    dict_tuple = gender_id, size_availability\n",
    "    \n",
    "    if dict_tuple in ss_dict.keys():\n",
    "        return ss_dict[dict_tuple] # a.k.a. calculated_size_score\n",
    "    \n",
    "    else:\n",
    "        calculated_size_score = 0\n",
    "        \n",
    "        # result here is list of lists with size and availability, e.g.\n",
    "        # [[36, 1], [37, 0], [38, 1]] etc.\n",
    "        extracted_size_availabity = [x.split('_') for x in size_availability.split('|')]\n",
    "\n",
    "        for size, availability in extracted_size_availabity:\n",
    "            if availability == '1':\n",
    "                size = float(size)\n",
    "\n",
    "                # use normal distribution for calculation of size score\n",
    "                size_score = 1 / (formula_input[idx][1] * sqrt(2 * pi)) * exp( - (size - formula_input[idx][0])**2 / (2 * formula_input[idx][1] **2))\n",
    "                calculated_size_score += size_score\n",
    "            \n",
    "            # put in dictionary\n",
    "            ss_dict[dict_tuple] = calculated_size_score\n",
    "\n",
    "        return calculated_size_score"
   ]
  },
  {
   "cell_type": "code",
   "execution_count": 5,
   "id": "122ee3b6",
   "metadata": {},
   "outputs": [
    {
     "data": {
      "text/plain": [
       "'21200812-27'"
      ]
     },
     "execution_count": 5,
     "metadata": {},
     "output_type": "execute_result"
    }
   ],
   "source": [
    "# check dataset input\n",
    "data[-1][0]"
   ]
  },
  {
   "cell_type": "code",
   "execution_count": 6,
   "id": "f172523d",
   "metadata": {},
   "outputs": [
    {
     "data": {
      "text/plain": [
       "0.9977548972480639"
      ]
     },
     "execution_count": 6,
     "metadata": {},
     "output_type": "execute_result"
    }
   ],
   "source": [
    "# test\n",
    "calculate_size_score(data[-1][0], data[-1][1])"
   ]
  },
  {
   "cell_type": "code",
   "execution_count": 7,
   "id": "f461922e",
   "metadata": {},
   "outputs": [
    {
     "name": "stdout",
     "output_type": "stream",
     "text": [
      "2.57 µs ± 69.6 ns per loop (mean ± std. dev. of 7 runs, 100000 loops each)\n"
     ]
    }
   ],
   "source": [
    "# microsecond is an SI unit of time equal to one millionth (0.000001 or 10−6 or 1⁄1,000,000) of a second. \n",
    "%timeit for nelson_id, size_availability in data: calculate_size_score(nelson_id, size_availability)"
   ]
  },
  {
   "cell_type": "code",
   "execution_count": 8,
   "id": "a204df3d",
   "metadata": {},
   "outputs": [
    {
     "name": "stdout",
     "output_type": "stream",
     "text": [
      "21200812-12 > 36_1|37_0|38_1|39_1|40_0|41_0|42_1 > 0.5509148126334408\n",
      "21200812-17 > 36_1|37_1|38_0|39_0|40_1|41_0|42_1 > 0.39429334214981465\n",
      "21200812-19 > 36_1|37_1|38_0|39_0|40_1|41_1|42_1 > 0.5036333919338104\n",
      "21200812-23 > 36_1|37_1|38_0|39_0|40_1|41_1|42_1 > 0.5036333919338104\n",
      "21200812-24 > 36_1|37_1|38_0|39_0|40_1|41_1|42_1 > 0.5036333919338104\n",
      "21200812-25 > 36_1|37_1|38_1|39_1|40_1|41_1|42_1 > 0.9825602492163338\n",
      "21200812-26 > 35_1|36_1|37_1|38_1|39_1|40_1|41_1|42_1 > 0.9901575732321989\n",
      "21200812-27 > 35_1|36_1|37_1|38_1|39_1|40_1|41_1|42_1|43_1 > 0.9977548972480639\n"
     ]
    }
   ],
   "source": [
    "for nelson_id, size_availability in data:\n",
    "    print(nelson_id, '>', size_availability, '>', calculate_size_score(nelson_id, size_availability))"
   ]
  }
 ],
 "metadata": {
  "kernelspec": {
   "display_name": "Python 3 (ipykernel)",
   "language": "python",
   "name": "python3"
  },
  "language_info": {
   "codemirror_mode": {
    "name": "ipython",
    "version": 3
   },
   "file_extension": ".py",
   "mimetype": "text/x-python",
   "name": "python",
   "nbconvert_exporter": "python",
   "pygments_lexer": "ipython3",
   "version": "3.9.7"
  }
 },
 "nbformat": 4,
 "nbformat_minor": 5
}
